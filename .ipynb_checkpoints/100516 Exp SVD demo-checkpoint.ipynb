{
 "cells": [
  {
   "cell_type": "code",
   "execution_count": 1,
   "metadata": {
    "code_folding": [
     0
    ],
    "collapsed": true
   },
   "outputs": [],
   "source": [
    "# -*- coding: utf-8 -*-\n",
    "\n",
    "import os, json, re, random\n",
    "from os.path import join, dirname, basename, split, splitext\n",
    "from collections import Counter, defaultdict, OrderedDict\n",
    "\n",
    "import numpy as np\n",
    "import pandas as pd\n",
    "import networkx as nx\n",
    "import matplotlib.pyplot as plt\n",
    "\n",
    "import general as ge\n",
    "\n",
    "%matplotlib inline"
   ]
  },
  {
   "cell_type": "markdown",
   "metadata": {},
   "source": [
    "We use an example of the titles of five documents.\n",
    "1. Romeo and Juliet.\n",
    "2. Juliet: O happy dagger!\n",
    "3. Romeo died by dagger.\n",
    "4. \"Live free or die\", that's the New-Hampshire's motto.\n",
    "5. Did you know, New-Hampshire is in New-England.\n",
    "\n",
    "Then the matrix of the word-doc will be:\n",
    "\n",
    "|  | 1 | 2 | 3 | 4 | 5 |\n",
    "|---|---|---|---|---|---|\n",
    "|romeo |  1|0 |1 |0 |0\n",
    "|juliet    | 1 |1 |0 |0| 0\n",
    "|happy       | 0| 1| 0| 0 |0\n",
    "|dagger     |  0| 1| 1| 0| 0\n",
    "|live       |  0| 0| 0| 1| 0\n",
    "|die         | 0| 0| 1| 1| 0\n",
    "|free        | 0| 0| 0| 1| 0\n",
    "|new-hampshire|0| 0| 0| 1| 1\n",
    "\n"
   ]
  },
  {
   "cell_type": "code",
   "execution_count": 20,
   "metadata": {
    "code_folding": [
     0
    ],
    "collapsed": false
   },
   "outputs": [],
   "source": [
    "# Compute SVD.\n",
    "\n",
    "tmpm = np.array([[1,0,1,0,0],[1,1,0,0,0],[0,1,0,0,0],[0,1, 1, 0, 0],\n",
    "                 [0, 0, 0, 1, 0],[0, 0, 1, 1, 0],[0,0,0,1,0],\n",
    "                 [0, 0, 0, 1, 1]]).astype(float)\n",
    "\n",
    "U, s, V = np.linalg.svd(tmpm, full_matrices=0)"
   ]
  },
  {
   "cell_type": "markdown",
   "metadata": {},
   "source": [
    "Then use the first 2 singular values of the system as the main directions, since the singular values decays very fast."
   ]
  },
  {
   "cell_type": "code",
   "execution_count": 21,
   "metadata": {
    "code_folding": [
     0
    ],
    "collapsed": false,
    "scrolled": true
   },
   "outputs": [
    {
     "name": "stdout",
     "output_type": "stream",
     "text": [
      "The first 2 singular values:\n",
      "[[ 2.28529793  0.        ]\n",
      " [ 0.          2.01025824]]\n",
      "\n",
      "\n",
      "Corresponding left matrix: U\n",
      "[[-0.39615277 -0.28005737]\n",
      " [-0.31426806 -0.44953214]\n",
      " [-0.17823952 -0.26899154]\n",
      " [-0.43836375 -0.36850831]\n",
      " [-0.26388058  0.34592143]\n",
      " [-0.52400482  0.24640466]\n",
      " [-0.26388058  0.34592143]\n",
      " [-0.32637322  0.45966878]]\n",
      "\n",
      "\n",
      "Corresponding right matrix: V^T\n",
      "[[-0.31086574 -0.40733041 -0.59446137 -0.60304575 -0.1428143 ]\n",
      " [-0.36293322 -0.54074246 -0.20005441  0.6953914   0.22866156]]\n"
     ]
    }
   ],
   "source": [
    "# Print.\n",
    "\n",
    "print \"The first 2 singular values:\"\n",
    "print np.diag(s[:2])\n",
    "print '\\n'\n",
    "\n",
    "print \"Corresponding left matrix: U\"\n",
    "print U[:, :2]\n",
    "print '\\n'\n",
    "\n",
    "print \"Corresponding right matrix: V^T\"\n",
    "print V[:2, :]"
   ]
  },
  {
   "cell_type": "markdown",
   "metadata": {},
   "source": [
    "Then the terms (words) in the concept space are represented by the row vectors of $U*s$; the documents are represented by the column vector of $s*V^T$.\n",
    "\n",
    "Here shows the matrix with each row represent a word in the concept space from the list ['romeo', 'juliet', 'happy', 'dagger', 'live', 'die', 'free', 'new-hampshire']."
   ]
  },
  {
   "cell_type": "code",
   "execution_count": 23,
   "metadata": {
    "collapsed": false
   },
   "outputs": [
    {
     "name": "stdout",
     "output_type": "stream",
     "text": [
      "[[-0.90532712 -0.56298763]\n",
      " [-0.71819615 -0.90367568]\n",
      " [-0.40733041 -0.54074246]\n",
      " [-1.00179178 -0.74079687]\n",
      " [-0.60304575  0.6953914 ]\n",
      " [-1.19750713  0.49533699]\n",
      " [-0.60304575  0.6953914 ]\n",
      " [-0.74586005  0.92405295]]\n"
     ]
    }
   ],
   "source": [
    "print np.dot(U[:, :2],np.diag(s[:2]))"
   ]
  },
  {
   "cell_type": "markdown",
   "metadata": {},
   "source": [
    "The belowing shows the matrix with each column the represetation of the titles."
   ]
  },
  {
   "cell_type": "code",
   "execution_count": 24,
   "metadata": {
    "collapsed": false
   },
   "outputs": [
    {
     "name": "stdout",
     "output_type": "stream",
     "text": [
      "[[-0.71042084 -0.93087134 -1.35852135 -1.37813921 -0.32637322]\n",
      " [-0.7295895  -1.08703198 -0.40216102  1.39791629  0.45966878]]\n"
     ]
    }
   ],
   "source": [
    "print np.dot(np.diag(s[:2]), V[:2, :])"
   ]
  },
  {
   "cell_type": "markdown",
   "metadata": {},
   "source": [
    "Each vector from the above matrix can be regarded by the distribution of the semantic of the corresponding text."
   ]
  },
  {
   "cell_type": "code",
   "execution_count": null,
   "metadata": {
    "collapsed": true
   },
   "outputs": [],
   "source": []
  }
 ],
 "metadata": {
  "kernelspec": {
   "display_name": "Python [Root]",
   "language": "python",
   "name": "Python [Root]"
  },
  "language_info": {
   "codemirror_mode": {
    "name": "ipython",
    "version": 2
   },
   "file_extension": ".py",
   "mimetype": "text/x-python",
   "name": "python",
   "nbconvert_exporter": "python",
   "pygments_lexer": "ipython2",
   "version": "2.7.12"
  }
 },
 "nbformat": 4,
 "nbformat_minor": 0
}
