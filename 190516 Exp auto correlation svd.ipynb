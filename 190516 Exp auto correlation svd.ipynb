{
 "cells": [
  {
   "cell_type": "code",
   "execution_count": 2,
   "metadata": {
    "collapsed": true
   },
   "outputs": [],
   "source": [
    "# -*- coding: utf-8 -*-\n",
    "\n",
    "import os, json, re, random\n",
    "from os.path import join, dirname, basename, split, splitext\n",
    "from collections import Counter, defaultdict, OrderedDict\n",
    "\n",
    "import numpy as np\n",
    "import pandas as pd\n",
    "import networkx as nx\n",
    "import matplotlib.pyplot as plt\n",
    "\n",
    "import general as ge\n",
    "\n",
    "from nltk.corpus import stopwords\n",
    "from nltk.stem.porter import PorterStemmer\n",
    "porter = PorterStemmer()\n",
    "\n",
    "%matplotlib inline"
   ]
  },
  {
   "cell_type": "code",
   "execution_count": 3,
   "metadata": {
    "collapsed": false
   },
   "outputs": [],
   "source": [
    "_, origianl_words = ge.read_file('1813 PRIDE AND PREJUDICE.txt', use_zip=0, zf='none')\n",
    "origianl_words = origianl_words[:40000]\n",
    "lenght_original_text = len(origianl_words)"
   ]
  },
  {
   "cell_type": "code",
   "execution_count": 21,
   "metadata": {
    "collapsed": true
   },
   "outputs": [],
   "source": [
    "stops = stopwords.words('english')\n",
    "words_0stop = [w for w in origianl_words if not w in stops]\n",
    "words_0stop_stem = [porter.stem(w) for w in words_0stop]\n",
    "c = Counter(words_0stop_stem)\n",
    "threshold = 4\n",
    "words_0stop_stem_threshold = [w for w, count in c.items() if count >= threshold]\n",
    "final_vocab = words_0stop_stem_threshold\n",
    "words_stem = [porter.stem(w) for w in origianl_words]\n",
    "\n",
    "window_length = 200\n",
    "if len(words_stem) % window_length:\n",
    "    num_windows = len(words_stem) / window_length + 1\n",
    "else:\n",
    "    num_windows = len(words_stem) / window_length\n",
    "\n",
    "finalwords_inwindows = []\n",
    "for ind in range(num_windows):\n",
    "    window_words = words_stem[ind*window_length:(ind+1)*window_length]\n",
    "    tmp = [w for w in window_words if w in final_vocab]\n",
    "    finalwords_inwindows.append(tmp)"
   ]
  },
  {
   "cell_type": "code",
   "execution_count": 22,
   "metadata": {
    "collapsed": false
   },
   "outputs": [],
   "source": [
    "m = np.zeros([len(final_vocab), num_windows])\n",
    "for ind_window, finalwords_inwindow in enumerate(finalwords_inwindows):\n",
    "    c = Counter(finalwords_inwindow)\n",
    "    for word, count in c.items():\n",
    "        ind_word = final_vocab.index(word)\n",
    "        m[ind_word, ind_window] = count"
   ]
  },
  {
   "cell_type": "code",
   "execution_count": 24,
   "metadata": {
    "collapsed": false
   },
   "outputs": [],
   "source": [
    "u, s, v = np.linalg.svd(m, full_matrices=False)\n",
    "\n",
    "# After plotting, use the first 200 dimensions as the desired.\n",
    "window_vectors = np.dot(np.diag(s), v)\n",
    "window_vectors = np.absolute(window_vectors)"
   ]
  },
  {
   "cell_type": "code",
   "execution_count": 25,
   "metadata": {
    "collapsed": true
   },
   "outputs": [],
   "source": [
    "# Jensen Shannon divergence\n",
    "def shannon_entropy(dis):\n",
    "    dis = [-pi * np.log(pi) for pi in dis]\n",
    "    return sum(dis)\n",
    "\n",
    "def jensen_shannon_divergence(dis, dis1):\n",
    "    term = shannon_entropy(0.5 * dis + 0.5 * dis1)\n",
    "    term1 = 0.5 * shannon_entropy(dis)\n",
    "    term2 = 0.5 * shannon_entropy(dis1)\n",
    "    return term - term1 - term2"
   ]
  },
  {
   "cell_type": "code",
   "execution_count": 27,
   "metadata": {
    "collapsed": false
   },
   "outputs": [],
   "source": [
    "distances = np.zeros([num_windows, num_windows])\n",
    "for ind in range(window_vectors.shape[1]-1):\n",
    "    dis = window_vectors[:, ind]\n",
    "    for ind1 in range(ind+1, window_vectors.shape[1]):\n",
    "        dis1 = window_vectors[:, ind1]\n",
    "        distances[ind, ind1] = jensen_shannon_divergence(dis, dis1)\n",
    "distances = distances + distances.transpose()"
   ]
  },
  {
   "cell_type": "code",
   "execution_count": 28,
   "metadata": {
    "collapsed": true
   },
   "outputs": [],
   "source": [
    "def information(i, j, m):\n",
    "    # m: a np matrix, i and j: numeric\n",
    "    row_i = m[i, :]\n",
    "    pij = row_i[j]\n",
    "    Iij = - pij * np.log(pij)\n",
    "    row_i_without_i = row_i[row_i != 0.0]\n",
    "    Ii = sum(- row_i_without_i * np.log(row_i_without_i))\n",
    "    return Iij / Ii"
   ]
  },
  {
   "cell_type": "code",
   "execution_count": 29,
   "metadata": {
    "collapsed": true
   },
   "outputs": [],
   "source": [
    "path_entropy = .0\n",
    "for node in range(num_windows-1):\n",
    "    node1 = node+1\n",
    "    Iij = information(node, node1, distances)\n",
    "    path_entropy += Iij"
   ]
  },
  {
   "cell_type": "code",
   "execution_count": 31,
   "metadata": {
    "collapsed": false
   },
   "outputs": [],
   "source": [
    "# 20 random paths.\n",
    "infos = []\n",
    "for count in range(50):\n",
    "    \n",
    "    nodes = range(distances.shape[1])\n",
    "    path = []\n",
    "    while len(nodes) != 0:\n",
    "        next_node = random.sample(nodes, 1)[0]\n",
    "        path.append(next_node)\n",
    "        nodes.remove(next_node)\n",
    "    \n",
    "    informations = 0.0\n",
    "    for ind in range(len(path) - 1):\n",
    "        node = path[ind]\n",
    "        node1 = path[ind+1]\n",
    "        Iij = information(node, node1, distances)\n",
    "        informations += Iij\n",
    "    infos.append(informations)"
   ]
  },
  {
   "cell_type": "code",
   "execution_count": null,
   "metadata": {
    "collapsed": true
   },
   "outputs": [],
   "source": []
  }
 ],
 "metadata": {
  "kernelspec": {
   "display_name": "Python 2",
   "language": "python",
   "name": "python2"
  },
  "language_info": {
   "codemirror_mode": {
    "name": "ipython",
    "version": 2
   },
   "file_extension": ".py",
   "mimetype": "text/x-python",
   "name": "python",
   "nbconvert_exporter": "python",
   "pygments_lexer": "ipython2",
   "version": "2.7.11"
  },
  "toc": {
   "toc_cell": false,
   "toc_number_sections": false,
   "toc_threshold": 6,
   "toc_window_display": false
  }
 },
 "nbformat": 4,
 "nbformat_minor": 0
}
