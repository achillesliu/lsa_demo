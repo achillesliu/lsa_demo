{
 "cells": [
  {
   "cell_type": "code",
   "execution_count": 1,
   "metadata": {
    "collapsed": true
   },
   "outputs": [],
   "source": [
    "# -*- coding: utf-8 -*-\n",
    "\n",
    "import os, json, re, random, sys, copy\n",
    "from os.path import join, dirname, basename, split, splitext\n",
    "from collections import Counter, defaultdict, OrderedDict\n",
    "\n",
    "import numpy as np\n",
    "import pandas as pd\n",
    "import networkx as nx\n",
    "import matplotlib.pyplot as plt\n",
    "\n",
    "sys.path.append('../tools')\n",
    "import general as ge\n",
    "\n",
    "from operator import add\n",
    "import pickle\n",
    "from operator import itemgetter\n"
   ]
  },
  {
   "cell_type": "markdown",
   "metadata": {},
   "source": [
    "This time I've used the calculated information entropy matrix from the distance matrix to speed up the evolution. Since with this you can directly get the information, rather to calculate it everytime. The calculation is small but takes a lot time if you do it for a lot of times in the evolution."
   ]
  },
  {
   "cell_type": "code",
   "execution_count": 2,
   "metadata": {
    "code_folding": [
     0
    ],
    "collapsed": true
   },
   "outputs": [],
   "source": [
    "# Functions.\n",
    "\n",
    "def information(i, j, m):\n",
    "    # Calculate the information needed given you are\n",
    "    # on node i to node j.\n",
    "    # The graph matrix is m.\n",
    "    # m: a np matrix, i and j: numeric\n",
    "    row_i = m[i, :]\n",
    "    pij = row_i[j]\n",
    "    Iij = - pij * np.log(pij)\n",
    "    row_i_without_i = row_i[row_i != 0.0]\n",
    "    Ii = sum(- row_i_without_i * np.log(row_i_without_i))\n",
    "    return Iij / Ii\n",
    "\n",
    "def fitness_get_path_entropy(mtrx, path):\n",
    "    # Bo, 160616\n",
    "    # The program is altered since now I have calculated all\n",
    "    # the information entropy.\n",
    "    # Now this function can read directly from the information\n",
    "    # entropy matrix.\n",
    "    # This saves time for the evolution process.\n",
    "\n",
    "    path_entropy = .0\n",
    "    for ind in range(len(path) - 1):\n",
    "        node = path[ind]\n",
    "        node1 = path[ind + 1]\n",
    "        Iij = mtrx[node, node1]\n",
    "#        Iij = information(node, node1, mtrx)\n",
    "        path_entropy += Iij\n",
    "    return path_entropy\n",
    "\n",
    "def get_individual(length_path):\n",
    "    # Get the random paths.\n",
    "    # Nodes in the paths are integers.\n",
    "    path = range(length_path)\n",
    "    random.shuffle(path)\n",
    "    return path\n",
    "    \n",
    "def get_population(num_indis, length_path):\n",
    "    return [get_individual(length_path) for i in range(num_indis)]\n",
    "\n",
    "def get_fitness_list(pop, m):\n",
    "    # Gets the score for all individuals in the population.\n",
    "    # Returns the sorted list with the most fitted individual foremost.\n",
    "    graded = [ (fitness_get_path_entropy(m, path), path) for path in pop]\n",
    "    return [x[1] for x in sorted(graded, key=itemgetter(0))]\n",
    "\n",
    "def get_average_fitness(pop, m):\n",
    "    grades = np.array([ fitness_get_path_entropy(m, path) for path in pop])\n",
    "    return np.mean(grades)\n",
    "    \n",
    "def crossover_ox(father, mother):\n",
    "    point1, point2 = sorted(random.sample(range(len(father)), 2))\n",
    "    slice_father = father[point1:point2]\n",
    "    slice_mother = mother[point1:point2]\n",
    "    child_father = remove_dup(slice_mother, father)\n",
    "    child_mother = remove_dup(slice_father, mother)\n",
    "    return point1, point2, child_father, child_mother\n",
    "\n",
    "def remove_dup(slc, parent):\n",
    "    diff = np.array([x for x in parent if x not in slc])\n",
    "    return np.concatenate((slc, diff))\n",
    "\n",
    "def mutation_change(parent):\n",
    "    point1, point2 = sorted(random.sample(range(len(parent)), 2))\n",
    "    parent[point1], parent[point2] = parent[point2], parent[point1]\n",
    "    return parent\n",
    "    \n",
    "def evolve(pop, m, retain_prob=.2, random_select_prob=.05, mutate_prob=.01):\n",
    "    \n",
    "    # Retains some as the parents.\n",
    "    graded = get_fitness_list(pop, m)\n",
    "    best_current = graded[0]\n",
    "    retain_length = int(len(graded) * retain_prob)\n",
    "    parents = graded[:retain_length]\n",
    "    \n",
    "    # Add low preformance indi for diversity.\n",
    "    for indi in graded[retain_length:]:\n",
    "        if random_select_prob > random.random():\n",
    "            parents.append(indi)\n",
    "    \n",
    "    # Crossover.\n",
    "    parents_length = len(parents)\n",
    "    desired_length = len(pop) - parents_length\n",
    "    children = []\n",
    "    while len(children) < desired_length:\n",
    "        father_ind = random.randint(0, parents_length - 1)\n",
    "        mother_ind = random.randint(0, parents_length - 1)\n",
    "        if father_ind != mother_ind:\n",
    "            father = parents[father_ind]\n",
    "            mother = parents[mother_ind]\n",
    "            _, _, child1, child2 = crossover_ox(father, mother)\n",
    "            children.append(child1)\n",
    "            children.append(child2)\n",
    "    if len(children) > desired_length:\n",
    "        children.pop()\n",
    "    parents.extend(children)\n",
    "    \n",
    "    # Mutation\n",
    "    for indi_ind in range(len(parents)):\n",
    "        if mutate_prob > random.random():\n",
    "            parents[indi_ind] = mutation_change(parents[indi_ind])\n",
    "    \n",
    "    return best_current, parents\n"
   ]
  },
  {
   "cell_type": "markdown",
   "metadata": {},
   "source": [
    "Parameters are set below."
   ]
  },
  {
   "cell_type": "code",
   "execution_count": null,
   "metadata": {
    "collapsed": true
   },
   "outputs": [],
   "source": [
    "informations = pickle.load(open('informations.p'))\n",
    "\n",
    "pop_size = 50\n",
    "pop = get_population(pop_size, informations.shape[1])\n",
    "retain_prob = .4\n",
    "random_select_prob = .05\n",
    "mutate_prob = .01\n",
    "\n",
    "fitness_history = [get_average_fitness(pop, informations), ]\n",
    "best_indi_history = [pop[0], ]\n",
    "for i in xrange(5000):\n",
    "    best_current, pop = evolve(pop, informations)\n",
    "    fitness_history.append(get_average_fitness(pop, informations))\n",
    "    best_indi_history.append(best_current)"
   ]
  },
  {
   "cell_type": "code",
   "execution_count": null,
   "metadata": {
    "collapsed": true
   },
   "outputs": [],
   "source": []
  }
 ],
 "metadata": {
  "kernelspec": {
   "display_name": "Python 2",
   "language": "python",
   "name": "python2"
  },
  "language_info": {
   "codemirror_mode": {
    "name": "ipython",
    "version": 2
   },
   "file_extension": ".py",
   "mimetype": "text/x-python",
   "name": "python",
   "nbconvert_exporter": "python",
   "pygments_lexer": "ipython2",
   "version": "2.7.11"
  },
  "toc": {
   "toc_cell": false,
   "toc_number_sections": false,
   "toc_threshold": 6,
   "toc_window_display": false
  }
 },
 "nbformat": 4,
 "nbformat_minor": 0
}
