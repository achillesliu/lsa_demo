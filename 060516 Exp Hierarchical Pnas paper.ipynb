{
 "cells": [
  {
   "cell_type": "code",
   "execution_count": 1,
   "metadata": {
    "collapsed": true
   },
   "outputs": [],
   "source": [
    "# -*- coding: utf-8 -*-\n",
    "\n",
    "import os, json, re, random\n",
    "from os.path import join, dirname, basename, split, splitext\n",
    "from collections import Counter, defaultdict, OrderedDict\n",
    "\n",
    "import numpy as np\n",
    "import pandas as pd\n",
    "import networkx as nx\n",
    "import matplotlib.pyplot as plt\n",
    "\n",
    "import general as ge\n",
    "\n",
    "%matplotlib inline"
   ]
  },
  {
   "cell_type": "code",
   "execution_count": 2,
   "metadata": {
    "collapsed": true
   },
   "outputs": [],
   "source": [
    "from nltk.corpus import stopwords\n",
    "from nltk.stem.porter import PorterStemmer\n",
    "porter = PorterStemmer()"
   ]
  },
  {
   "cell_type": "code",
   "execution_count": 3,
   "metadata": {
    "collapsed": true
   },
   "outputs": [],
   "source": [
    "def count_cooccurrrence(word, word1, window_length, words_numbers):\n",
    "    indices_v = np.where(words_numbers == word)\n",
    "    indices_v1 = np.where(words_numbers == word1)\n",
    "    distances = np.zeros([np.size(indices_v), np.size(indices_v1)])\n",
    "    for ind in np.arange(np.size(indices_v)):\n",
    "        index_v = indices_v[0][ind]\n",
    "        distances[ind, :] = np.absolute(indices_v1 - index_v)\n",
    "    threshold = window_length / 2\n",
    "    return np.sum(distances <= threshold)\n",
    "\n",
    "def cooccurrence_m(vocab_numbers, words_numbers, window_length):\n",
    "    m = np.zeros([len(vocab_numbers), len(vocab_numbers)])\n",
    "    for ind,v in list(enumerate(vocab_numbers))[:-1]:\n",
    "        for ind1 in range(ind+1, len(vocab_numbers)):\n",
    "            v1 = vocab_numbers[ind1]\n",
    "            m[ind, ind1] = count_cooccurrrence(v, v1, window_length, words_numbers)\n",
    "    m = m + m.transpose()\n",
    "    return m"
   ]
  },
  {
   "cell_type": "code",
   "execution_count": 4,
   "metadata": {
    "collapsed": true
   },
   "outputs": [],
   "source": [
    "# Parameters.\n",
    "\n",
    "window_length = 200\n",
    "threshold = 4"
   ]
  },
  {
   "cell_type": "code",
   "execution_count": 5,
   "metadata": {
    "collapsed": false
   },
   "outputs": [],
   "source": [
    "# Reading and pre-treatment the text.\n",
    "# The words are filtered for multiple times.\n",
    "# There's unclear issue that the order of the stemming and threshold.\n",
    "\n",
    "_, words = ge.read_file('1813 PRIDE AND PREJUDICE.txt', use_zip=0, zf='none')\n",
    "\n",
    "length_original_text = len(words)\n",
    "\n",
    "# Pre-treatment.\n",
    "# stopwords\n",
    "words = [w for w in words if not w in stopwords.words('english')]\n",
    "# stem\n",
    "words = [porter.stem(w) for w in words]\n",
    "vocab = list(set(words))\n",
    "# threshold for number of appearances\n",
    "c = Counter(words)\n",
    "vocab = [w for w,count in c.items() if count <= threshold]\n",
    "words = [w for w in words if w in vocab]"
   ]
  },
  {
   "cell_type": "code",
   "execution_count": 118,
   "metadata": {
    "collapsed": true
   },
   "outputs": [],
   "source": [
    "# Map strings (words, vocab) into numbers for speed.\n",
    "# For any string list, convert to numpy arrays, then feed them into the function.\n",
    "\n",
    "# test\n",
    "# vocab = [1, 2, 3, 4]\n",
    "# words = [1,3,2,2,4,1,3,2,3]\n",
    "\n",
    "words_numbers = [vocab.index(w) for w in words]\n",
    "words_numbers = np.array(words_numbers)\n",
    "vocab_numbers = np.arange(len(vocab))"
   ]
  },
  {
   "cell_type": "code",
   "execution_count": 119,
   "metadata": {
    "collapsed": false
   },
   "outputs": [],
   "source": [
    "# Map the text into a cooccurrence matrix.\n",
    "\n",
    "m = cooccurrence_m(vocab_numbers, words_numbers, window_length)"
   ]
  },
  {
   "cell_type": "code",
   "execution_count": 135,
   "metadata": {
    "collapsed": false
   },
   "outputs": [],
   "source": [
    "# Build the random matrix.\n",
    "c = Counter(words_numbers)\n",
    "r = np.zeros([np.size(vocab_numbers), np.size(vocab_numbers)])\n",
    "for ind,w in list(enumerate(vocab_numbers))[:-1]:\n",
    "    for ind1 in range(ind+1, len(vocab_numbers)):\n",
    "        w1 = vocab_numbers[ind1]\n",
    "        r[ind, ind1] = float(window_length) * c[w] * c[w] / length_original_text\n",
    "r = r + r.transpose()"
   ]
  },
  {
   "cell_type": "code",
   "execution_count": 124,
   "metadata": {
    "collapsed": false
   },
   "outputs": [],
   "source": [
    "U, s, V = np.linalg.svd(m)"
   ]
  },
  {
   "cell_type": "code",
   "execution_count": 132,
   "metadata": {
    "collapsed": false
   },
   "outputs": [
    {
     "data": {
      "text/plain": [
       "[<matplotlib.lines.Line2D at 0xb92f9e8>]"
      ]
     },
     "execution_count": 132,
     "metadata": {},
     "output_type": "execute_result"
    },
    {
     "data": {
      "image/png": "[encoded data removed]",
      "text/plain": [
       "<matplotlib.figure.Figure at 0xc758908>"
      ]
     },
     "metadata": {},
     "output_type": "display_data"
    }
   ],
   "source": [
    "plt.loglog(s)"
   ]
  },
  {
   "cell_type": "code",
   "execution_count": null,
   "metadata": {
    "collapsed": true
   },
   "outputs": [],
   "source": []
  },
  {
   "cell_type": "code",
   "execution_count": null,
   "metadata": {
    "collapsed": true
   },
   "outputs": [],
   "source": []
  },
  {
   "cell_type": "code",
   "execution_count": null,
   "metadata": {
    "collapsed": true
   },
   "outputs": [],
   "source": []
  },
  {
   "cell_type": "code",
   "execution_count": null,
   "metadata": {
    "collapsed": true
   },
   "outputs": [],
   "source": []
  },
  {
   "cell_type": "code",
   "execution_count": null,
   "metadata": {
    "collapsed": true
   },
   "outputs": [],
   "source": []
  },
  {
   "cell_type": "code",
   "execution_count": null,
   "metadata": {
    "collapsed": true
   },
   "outputs": [],
   "source": []
  },
  {
   "cell_type": "code",
   "execution_count": null,
   "metadata": {
    "collapsed": true
   },
   "outputs": [],
   "source": []
  },
  {
   "cell_type": "code",
   "execution_count": null,
   "metadata": {
    "collapsed": true
   },
   "outputs": [],
   "source": []
  },
  {
   "cell_type": "code",
   "execution_count": null,
   "metadata": {
    "collapsed": true
   },
   "outputs": [],
   "source": []
  },
  {
   "cell_type": "code",
   "execution_count": null,
   "metadata": {
    "collapsed": true
   },
   "outputs": [],
   "source": []
  },
  {
   "cell_type": "code",
   "execution_count": 8,
   "metadata": {
    "collapsed": false
   },
   "outputs": [],
   "source": [
    "# Devide text into parts.\n",
    "\n",
    "texts = []\n",
    "for ind in range(num_window):\n",
    "    tmp = words[ind*len_window:(ind+1)*len_window]\n",
    "    texts.append(tmp)"
   ]
  }
 ],
 "metadata": {
  "kernelspec": {
   "display_name": "Python 2",
   "language": "python",
   "name": "python2"
  },
  "language_info": {
   "codemirror_mode": {
    "name": "ipython",
    "version": 2
   },
   "file_extension": ".py",
   "mimetype": "text/x-python",
   "name": "python",
   "nbconvert_exporter": "python",
   "pygments_lexer": "ipython2",
   "version": "2.7.11"
  }
 },
 "nbformat": 4,
 "nbformat_minor": 0
}
